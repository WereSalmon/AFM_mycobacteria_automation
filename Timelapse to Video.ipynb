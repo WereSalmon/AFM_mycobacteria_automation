{
 "cells": [
  {
   "cell_type": "code",
   "execution_count": 35,
   "id": "a89ed981-cdee-4617-a6b2-db345bdb56e5",
   "metadata": {},
   "outputs": [],
   "source": [
    "import cv2\n",
    "import os,sys\n",
    "import numpy as np\n",
    "import glob\n",
    "import tools\n",
    "import matplotlib.pyplot as plt\n",
    "from pystackreg import StackReg as sr\n",
    "from skimage import transform as tf\n",
    "import matplotlib.pyplot as plt\n",
    "\n",
    "\n",
    "date = \"30-03-2015\"\n",
    "my_data = \"../data/\" + date + \"/Height/\"\n",
    "#my_data = \"example_data/Height/\""
   ]
  },
  {
   "cell_type": "code",
   "execution_count": 22,
   "id": "9fa85fec-9646-41c5-9855-838111ed0dcc",
   "metadata": {},
   "outputs": [],
   "source": [
    "# Load up a list of input files from our example data.\n",
    "files = os.listdir(my_data)\n",
    "for fichier in files[:]:\n",
    "    if not(fichier.endswith(\".png\")):\n",
    "        files.remove(fichier)\n",
    "        \n",
    "# Sort files by timepoint.\n",
    "files.sort(key = tools.natural_keys)      \n",
    "\n",
    "# Create a list that contains the full path to each of our image files. \n",
    "file_names = [my_data + file for file in files]"
   ]
  },
  {
   "cell_type": "code",
   "execution_count": 23,
   "id": "e8939868-75cf-48b3-9ac9-ced34438792c",
   "metadata": {},
   "outputs": [],
   "source": [
    "img_array = []\n",
    "for file in file_names:\n",
    "    img = cv2.imread(file)\n",
    "    img_array.append(img)"
   ]
  },
  {
   "cell_type": "code",
   "execution_count": 4,
   "id": "c17ef7f5-d2a3-4172-bbae-a28b8d95349c",
   "metadata": {},
   "outputs": [],
   "source": [
    "refs = np.array([img[:,:-100,0] for img in img_array])"
   ]
  },
  {
   "cell_type": "code",
   "execution_count": 5,
   "id": "3e62839e-bf0e-4533-a318-5d5e1248e42c",
   "metadata": {},
   "outputs": [],
   "source": [
    "(height, width, layers) = img_array[1].shape\n",
    "size = (width,height)"
   ]
  },
  {
   "cell_type": "code",
   "execution_count": 6,
   "id": "1839193d-0476-4105-afc1-b239481c9af6",
   "metadata": {},
   "outputs": [
    {
     "data": {
      "text/plain": [
       "1.0"
      ]
     },
     "execution_count": 6,
     "metadata": {},
     "output_type": "execute_result"
    }
   ],
   "source": [
    "[img.shape[0] == size[1] and img.shape[1] == size[0] for img in img_array].count(True)/len(img_array)"
   ]
  },
  {
   "cell_type": "code",
   "execution_count": 7,
   "id": "03d2bc96-afb1-498c-a917-36e162189714",
   "metadata": {},
   "outputs": [],
   "source": [
    "sca=sr(sr.SCALED_ROTATION)\n",
    "tmats = sca.register_stack(refs)"
   ]
  },
  {
   "cell_type": "code",
   "execution_count": 18,
   "id": "6b1f1bde-5d17-496d-9af6-64675acd4140",
   "metadata": {},
   "outputs": [],
   "source": [
    "aligned_list = []\n",
    "sizes = []\n",
    "for i in range(tmats.shape[0]):\n",
    "    tmat = tmats[i,:,:]\n",
    "    img = img_array[i]\n",
    "    warped = np.round(tf.warp(img,tmat)*255).astype(np.uint8)\n",
    "    aligned_list.append(warped)\n",
    "    sizes.append(warped.shape)"
   ]
  },
  {
   "cell_type": "code",
   "execution_count": 19,
   "id": "0354efa8-2ff2-4728-966c-554699fe4db0",
   "metadata": {},
   "outputs": [
    {
     "data": {
      "text/plain": [
       "<matplotlib.image.AxesImage at 0x7f11a3085df0>"
      ]
     },
     "execution_count": 19,
     "metadata": {},
     "output_type": "execute_result"
    },
    {
     "data": {
      "image/png": "[encoded data removed]",
      "text/plain": [
       "<Figure size 432x288 with 1 Axes>"
      ]
     },
     "metadata": {
      "needs_background": "light"
     },
     "output_type": "display_data"
    }
   ],
   "source": [
    "plt.imshow(aligned_list[3])"
   ]
  },
  {
   "cell_type": "code",
   "execution_count": 14,
   "id": "2659d697-f0d1-4e6a-a75e-12679e1dc47c",
   "metadata": {},
   "outputs": [
    {
     "data": {
      "text/plain": [
       "(array([349032.,   7098.,   4272.,   4410.,   6297.,  11076.,   5637.,\n",
       "          1272.,    855.,   1695.]),\n",
       " array([  0. ,  25.5,  51. ,  76.5, 102. , 127.5, 153. , 178.5, 204. ,\n",
       "        229.5, 255. ]),\n",
       " <BarContainer object of 10 artists>)"
      ]
     },
     "execution_count": 14,
     "metadata": {},
     "output_type": "execute_result"
    },
    {
     "data": {
      "image/png": "[encoded data removed]",
      "text/plain": [
       "<Figure size 432x288 with 1 Axes>"
      ]
     },
     "metadata": {
      "needs_background": "light"
     },
     "output_type": "display_data"
    }
   ],
   "source": [
    "plt.hist(np.ravel(aligned_list[0][:,:-100,:]))"
   ]
  },
  {
   "cell_type": "code",
   "execution_count": 20,
   "id": "885d792b-2106-4671-a820-f3a0fb47a2b2",
   "metadata": {},
   "outputs": [],
   "source": [
    "out = cv2.VideoWriter(date + '.avi',cv2.VideoWriter_fourcc(*'DIVX'), 5, size)\n",
    "\n",
    "for i in range(len(aligned_list)):\n",
    "    out.write(aligned_list[i])\n",
    "out.release()"
   ]
  },
  {
   "cell_type": "code",
   "execution_count": null,
   "id": "f332e66a-a95f-4798-a915-4dfb4d42fb5a",
   "metadata": {},
   "outputs": [],
   "source": []
  }
 ],
 "metadata": {
  "kernelspec": {
   "display_name": "Python 3 (ipykernel)",
   "language": "python",
   "name": "python3"
  },
  "language_info": {
   "codemirror_mode": {
    "name": "ipython",
    "version": 3
   },
   "file_extension": ".py",
   "mimetype": "text/x-python",
   "name": "python",
   "nbconvert_exporter": "python",
   "pygments_lexer": "ipython3",
   "version": "3.8.13"
  }
 },
 "nbformat": 4,
 "nbformat_minor": 5
}
