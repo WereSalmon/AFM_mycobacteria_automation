{
 "cells": [
  {
   "cell_type": "code",
   "execution_count": 1,
   "id": "5b1cb569",
   "metadata": {},
   "outputs": [],
   "source": [
    "import numpy as np\n",
    "from numba import jit\n",
    "import os,sys,re\n",
    "from cellpose import io\n",
    "from itertools import tee\n",
    "example_data='example_data/height/'\n",
    "import matplotlib.pyplot as plt"
   ]
  },
  {
   "cell_type": "code",
   "execution_count": 2,
   "id": "b839d09f",
   "metadata": {},
   "outputs": [],
   "source": [
    "files=os.listdir(example_data)"
   ]
  },
  {
   "cell_type": "code",
   "execution_count": 3,
   "id": "f1866037",
   "metadata": {},
   "outputs": [],
   "source": [
    "images = []\n",
    "data = []\n",
    "for file in files:\n",
    "    if file.endswith(\".png\"):\n",
    "        images.append(file)\n",
    "        data.append(file[:-4])"
   ]
  },
  {
   "cell_type": "markdown",
   "id": "20f90790",
   "metadata": {},
   "source": [
    "## Retrieve scale from the .001 files\n",
    "\n",
    "The function ```get_scale``` searches the rows of the .001 text file until it finds the first line that labelled Scan Size. Extracts the number on that line, which is the width of the image in nanometers"
   ]
  },
  {
   "cell_type": "code",
   "execution_count": null,
   "id": "41b55305",
   "metadata": {},
   "outputs": [],
   "source": [
    "def get_scale(file_path):\n",
    "    \"\"\"\n",
    "    Find the scale of an AFM image in a .001 file\n",
    "    file_path = str (path to a text file)\n",
    "    \"\"\"\n",
    "    scale = np.nan\n",
    "    with open(file_path) as f:\n",
    "        for line in f:\n",
    "            if line[1:12] =='Scan Size: ':\n",
    "                scale=float(re.findall(r'\\d+', line)[0])\n",
    "                break\n",
    "            if line=='\\\\*File list end\\n':\n",
    "                break\n",
    "    return scale"
   ]
  },
  {
   "cell_type": "code",
   "execution_count": null,
   "id": "fdaa8075",
   "metadata": {},
   "outputs": [],
   "source": [
    "def get_rotate(file_path):\n",
    "    \"\"\"\n",
    "    Find the scale of an AFM image in a .001 file\n",
    "    file_path = str (path to a text file)\n",
    "    \"\"\"\n",
    "    scale = np.nan\n",
    "    with open(file_path) as f:\n",
    "        for line in f:\n",
    "            if line[1:16] =='\\Rotate Ang.: ':\n",
    "                scale=float(re.findall(r'\\d+', line)[0])\n",
    "                break\n",
    "            if line=='\\\\*File list end\\n':\n",
    "                break\n",
    "    return scale"
   ]
  },
  {
   "cell_type": "markdown",
   "id": "a248063e",
   "metadata": {},
   "source": [
    "Extract the text of each line from the .001 file at the 14th and 15th time steps. These are chosen as the image scale changes here"
   ]
  },
  {
   "cell_type": "code",
   "execution_count": null,
   "id": "eff07f93",
   "metadata": {},
   "outputs": [],
   "source": [
    "zoom_in = []\n",
    "with open(example_data+data[13]) as f:\n",
    "    for line in f:\n",
    "        zoom_in.append(line[1:-1])\n",
    "        if line=='\\\\*File list end\\n':\n",
    "            break\n",
    "\n",
    "\n",
    "zoom_out = []\n",
    "with open(example_data+data[13]) as f:\n",
    "    for line in f:\n",
    "        zoom_out.append(line[1:-1])\n",
    "        if line=='\\\\*File list end\\n':\n",
    "            break"
   ]
  },
  {
   "cell_type": "code",
   "execution_count": null,
   "id": "48635b63",
   "metadata": {},
   "outputs": [],
   "source": [
    "same_line = []\n",
    "for line in zip(zoom_in,zoom_out):\n",
    "    same_line.append(zoom_in==zoom_out)"
   ]
  },
  {
   "cell_type": "markdown",
   "id": "b7c60d7b",
   "metadata": {},
   "source": [
    "## Rescale the image\n",
    "\n",
    "The function `nn_scale_image` rescales an image by a factor of $d$. We expect that $d$ will be close to 1, and we will only be scaling high resolution images once so for simplicity we use the nearest neighbour scaling method (divide the row/column number of each pixel in the scaled image by d and map that pixel to the nearest row/column in the original image)"
   ]
  },
  {
   "cell_type": "code",
   "execution_count": null,
   "id": "a4b4a9ba",
   "metadata": {},
   "outputs": [],
   "source": [
    "im = io.imread(example_data+images[14])"
   ]
  },
  {
   "cell_type": "code",
   "execution_count": null,
   "id": "7cad4163",
   "metadata": {},
   "outputs": [],
   "source": [
    "@jit\n",
    "def nn_scale_image(im, d,aspec=None):\n",
    "    '''Uses a nearest neighbour method to scale an image by a ratio of d. If a different aspect ratio is desired, it can be specified\n",
    "    im = the original image (3d numpy array)\n",
    "    d = the ratio by which the width will be scaled\n",
    "    aspec = the desired height-to-width ratio of the image's pixels. If none is specified, the original aspect ratio will be kept.\n",
    "    '''\n",
    "    (h,w,b)=np.shape(im)\n",
    "    if aspec == None:\n",
    "        m = int(np.floor(d*h))\n",
    "        n = int(np.floor(d*w))\n",
    "        dh = d\n",
    "    else:\n",
    "        m = int(np.floor(d*h*aspec))\n",
    "        n = int(np.floor(d*w))\n",
    "        dh = d*aspec\n",
    "    scaled_im = np.zeros((m,n,b)).astype(np.uint8)\n",
    "    for i in range(m):\n",
    "        for j in range(n):\n",
    "            k = int(np.round(i/dh))\n",
    "            l = int(np.round(j/d))\n",
    "            scaled_im[i,j,:]=im[k,l,:]\n",
    "    return scaled_im"
   ]
  },
  {
   "cell_type": "code",
   "execution_count": null,
   "id": "0b36725f",
   "metadata": {},
   "outputs": [],
   "source": [
    "@jit\n",
    "def bl_scale_image(im, d, aspec=None):\n",
    "    '''Uses a bilinear method to scale an image by a ratio of d. If a different aspect ratio is desired, it can be specified\n",
    "    im = the original image (3d numpy array)\n",
    "    d = the ratio by which the width will be scaled (float)\n",
    "    aspec = the desired height to width ratio of the images pixels. (float) If none is specified, the original aspect ratio will be kept\n",
    "    '''\n",
    "    (h,w,b)=np.shape(im)\n",
    "    if aspec == None:\n",
    "        m = int(np.floor(d*h))\n",
    "        n = int(np.floor(d*w))\n",
    "        dh = d\n",
    "    else:\n",
    "        m = int(np.floor(d*h*aspec))\n",
    "        n = int(np.floor(d*w))\n",
    "        dh = d*aspec\n",
    "    padded_im = np.zeros((h+1,w+1,b))\n",
    "    padded_im[:h,:w,:]=im\n",
    "    scaled_im = np.zeros((m,n,b))\n",
    "    for i in range(m):\n",
    "        for j in range(n):\n",
    "            k1 = int(np.floor(i/dh))\n",
    "            l1 = int(np.floor(j/d))\n",
    "            k2 = int(np.floor((i+1)/dh))\n",
    "            l2 = int(np.floor((j+1)/d))\n",
    "            if k1<k2:\n",
    "                di = i-(dh*k1)\n",
    "            else:\n",
    "                di = 0\n",
    "            if l1<l2:\n",
    "                dj = j-(d*l1)\n",
    "            else:\n",
    "                dj = 0\n",
    "            A = padded_im[k1:k1+2,l1:l1+2,:]\n",
    "            scaled_im[i,j,:] = ((1-dj)*(((1-di)*A[0,0,:])+(di*A[0,1,:])))+(dj*(((1-di)*A[1,0,:])+(di*A[1,1,:])))\n",
    "    return scaled_im.astype(np.uint8)"
   ]
  },
  {
   "cell_type": "markdown",
   "id": "6ca722f9",
   "metadata": {},
   "source": [
    "We now compare the scaled and original images. In particular the axis numbers have changed between the two first and second images to show the increase in size"
   ]
  },
  {
   "cell_type": "code",
   "execution_count": null,
   "id": "a5c70fd9",
   "metadata": {
    "scrolled": true
   },
   "outputs": [],
   "source": [
    "plt.imshow(im)"
   ]
  },
  {
   "cell_type": "code",
   "execution_count": null,
   "id": "9ce0393b",
   "metadata": {},
   "outputs": [],
   "source": [
    "scaled_im = nn_scale_image(im,1.5,3/2)"
   ]
  },
  {
   "cell_type": "code",
   "execution_count": null,
   "id": "e32ab148",
   "metadata": {
    "scrolled": true
   },
   "outputs": [],
   "source": [
    "plt.imshow(scaled_im)"
   ]
  },
  {
   "cell_type": "markdown",
   "id": "dfade6ea",
   "metadata": {},
   "source": [
    "## Rotate Image\n",
    "\n",
    "1. Rotate the \"corners\" of the pixel ($i = 1,2,3,4$)\n",
    "\n",
    "$$\\begin{pmatrix} x_i \\\\ y_i \\end{pmatrix} = \\begin{pmatrix} \\cos(\\theta) & \\sin(\\theta) \\\\ -\\sin(\\theta) & \\cos(\\theta) \\end{pmatrix} \\begin{pmatrix} x_i' \\\\ y_i' \\end{pmatrix}$$\n",
    "\n",
    "2. Check if edge $(i)(i+1) \\mod 4$ changes rows/columns, and find where. For $x$ if $|\\lfloor x_i \\rfloor - \\lfloor x_{i+1} \\rfloor|>0$, it crosses column $c_i = \\lfloor\\max(x_i,x_{i+1})\\rfloor$. Find where this occurs by solving $\\frac{y_c-y_i}{c - x_i} = \\frac{y_{i+1}-y_i}{x_{i+1} - x_i} $\n",
    "\n",
    "    For $y$ if $|\\lfloor y_i \\rfloor - \\lfloor y_{i+1} \\rfloor|>0$, it crosses row $r_i = \\lfloor\\max(y_i,y_{i+1})\\rfloor$. Find where this occurs by solving $\\frac{r-y_i}{x_r - x_i} = \\frac{y_{i+1}-y_i}{x_{i+1} - x_i} $\n",
    "\n",
    "3. Order all points by distance from $(x_i, y_i)$. Take pixel value at the midpoint of each section. Now take the average value along edge $(i)(i+1)$. Take the pixel value to be the mean of these values "
   ]
  },
  {
   "cell_type": "code",
   "execution_count": 19,
   "id": "68a4774a",
   "metadata": {},
   "outputs": [],
   "source": [
    "@jit\n",
    "def nn_rotate_image(im, r, rad = True):\n",
    "    '''Uses a nearest neighbour method to rotate an image by a r radians. If degrees are used instead, it can be specified\n",
    "    im = the original image (3d numpy array)\n",
    "    r = the rotation angle, counter clockwise, around the centre of the image (float)\n",
    "    rad = True if r is in radians, False if it is degrees \n",
    "    '''\n",
    "    if not(rad):\n",
    "        r = np.radians(r)\n",
    "    (h,w,b)=np.shape(im)\n",
    "    m = int(np.floor(np.abs(w*np.sin(r)) + np.abs(h*np.cos(r))))\n",
    "    n = int(np.floor(np.abs(w*np.cos(r)) + np.abs(h*np.sin(r))))\n",
    "    rotated_im = np.zeros((m,n,b))\n",
    "    rm = np.array([[np.cos(r), -np.sin(r)],[np.sin(r), np.cos(r)]])\n",
    "    centre = np.array([[w/2],[h/2]])\n",
    "    rotated_centre = np.array([[n/2],[m/2]])\n",
    "    for i in range(m):\n",
    "        for j in range(n):\n",
    "            new_pos = np.dot(rm,np.array([[j],[i]])-rotated_centre)+centre\n",
    "            if -0.5<new_pos[1,0]<h-1 and -0.5<new_pos[0,0]<w-1:\n",
    "                k = int(np.round(new_pos[1,0]))\n",
    "                l = int(np.round(new_pos[0,0]))\n",
    "                rotated_im[i,j,:]=im[k,l,:]\n",
    "    return rotated_im.astype(np.uint8)"
   ]
  },
  {
   "cell_type": "code",
   "execution_count": 8,
   "id": "60851b1c",
   "metadata": {},
   "outputs": [],
   "source": [
    "im = io.imread(example_data+images[0])"
   ]
  },
  {
   "cell_type": "code",
   "execution_count": 20,
   "id": "a814ee44",
   "metadata": {},
   "outputs": [
    {
     "data": {
      "text/plain": [
       "<matplotlib.image.AxesImage at 0x1d39392b400>"
      ]
     },
     "execution_count": 20,
     "metadata": {},
     "output_type": "execute_result"
    },
    {
     "data": {
      "image/png": "[encoded data removed]",
      "text/plain": [
       "<Figure size 432x288 with 1 Axes>"
      ]
     },
     "metadata": {
      "needs_background": "light"
     },
     "output_type": "display_data"
    }
   ],
   "source": [
    "plt.imshow(im)"
   ]
  },
  {
   "cell_type": "code",
   "execution_count": 26,
   "id": "4bc85b6e",
   "metadata": {
    "scrolled": true
   },
   "outputs": [],
   "source": [
    "rotated_im = nn_rotate_image(im,120,rad = False)"
   ]
  },
  {
   "cell_type": "code",
   "execution_count": 27,
   "id": "c43f00f4",
   "metadata": {},
   "outputs": [
    {
     "data": {
      "text/plain": [
       "<matplotlib.image.AxesImage at 0x1d3995d9a30>"
      ]
     },
     "execution_count": 27,
     "metadata": {},
     "output_type": "execute_result"
    },
    {
     "data": {
      "image/png": "[encoded data removed]",
      "text/plain": [
       "<Figure size 432x288 with 1 Axes>"
      ]
     },
     "metadata": {
      "needs_background": "light"
     },
     "output_type": "display_data"
    }
   ],
   "source": [
    "plt.imshow(rotated_im)"
   ]
  },
  {
   "cell_type": "code",
   "execution_count": null,
   "id": "1e9e1c04",
   "metadata": {
    "scrolled": true
   },
   "outputs": [],
   "source": [
    "@jit\n",
    "def pairwise(listy):\n",
    "    \"s -> (s0,s1), (s1,s2), (s2, s3), ...\"\n",
    "    return zip(listy[:-1], listy[1:])\n",
    "\n",
    "def interp_rotated_pixel(verts,image):\n",
    "    '''use bilinear interpolation to find the value of a pixel rotated at an angle of r, 0<r<pi/4\n",
    "    verts = the corners of the pixel\n",
    "    image = the original image we are comparing the pixel to\n",
    "    '''\n",
    "    edges = pairwise(verts + [verts[0]])\n",
    "    interp_vals = []\n",
    "    for (v0,v1) in edges:\n",
    "        edge = [np.array(v0)]\n",
    "        (x0,y0) = v0\n",
    "        (x1,y1) = v1\n",
    "        if np.abs(np.floor(x0)-np.floor(x1))>0.5:\n",
    "            c = np.floor(max(x0,x1))\n",
    "            yc = ((y1-y0)/(x1-x0))*(c-x0) + y0\n",
    "            edge.append(np.array((c,yc)))\n",
    "        if np.abs(np.floor(y0)-np.floor(y1))>0.5:\n",
    "            r = np.floor(max(x1,x0))\n",
    "            xr = ((x1-x0)/(y1-y0))*(r-y0) + x0\n",
    "            targ = edge[0]-edge[-1]\n",
    "            if (xr-x0)**2 + (r-y0)**2 < targ[0]**2 + targ[1]**2 and len(edge)>1:\n",
    "                edge = [edge[0], np.array((xr,r)), edge[1]]\n",
    "            else:\n",
    "                edge.append(np.array((xr,r)))\n",
    "        edge.append(np.array(v1))\n",
    "        sections = []\n",
    "        for sect in pairwise(edge):\n",
    "            [px,py] = np.floor((sect[0]+sect[1])*0.5).astype(int)\n",
    "            try:\n",
    "                length = (sect[0][0]-sect[1][0])**2 + (sect[0][1]-sect[1][1])**2\n",
    "                val = length*image[px,py]\n",
    "                sections.append(val)\n",
    "            except IndexError:\n",
    "                sections.append(0.0)\n",
    "        edge_val = sum(sections)\n",
    "        interp_vals.append(edge_val)\n",
    "    pixel_val = sum(interp_vals)*0.25\n",
    "    return pixel_val"
   ]
  },
  {
   "cell_type": "code",
   "execution_count": null,
   "id": "bfb8562f",
   "metadata": {},
   "outputs": [],
   "source": [
    "im = np.array([[0,1,0],[1,0,1],[0,1,0]])"
   ]
  },
  {
   "cell_type": "code",
   "execution_count": null,
   "id": "fccb324c",
   "metadata": {},
   "outputs": [],
   "source": [
    "theta = np.radians(30)"
   ]
  },
  {
   "cell_type": "code",
   "execution_count": null,
   "id": "2e176b5d",
   "metadata": {},
   "outputs": [],
   "source": [
    "R = np.array([[np.cos(theta),-np.sin(theta)],[np.sin(theta),np.cos(theta)]])\n",
    "pix = [np.array([[1],[0]]), np.array([[1],[1]]), np.array([[2],[1]]), np.array([[2],[0]])]\n",
    "verts = [np.dot(R,pixel) for pixel in pix]\n",
    "interp_rotated_pixel(verts,im)"
   ]
  },
  {
   "cell_type": "code",
   "execution_count": null,
   "id": "e45e6f01",
   "metadata": {},
   "outputs": [],
   "source": [
    "def bl_rotate_image(image,angle, rad = False):\n",
    "    if r==0:\n",
    "        return image\n",
    "    (w,h) = np.shape(image)\n",
    "    if not(rad):\n",
    "        r =np.radians(angle)\n",
    "    nw = np.floor((h*np.sin(r)) + (w*np.cos(r)))\n",
    "    nh = np.floor((h*np.cos(r)) + (w*np.sin(r)))\n",
    "    new_im = np.zeros(nw,nh)\n",
    "    cx = (w+1)/2\n",
    "    cy = (h+1)/2"
   ]
  },
  {
   "cell_type": "code",
   "execution_count": null,
   "id": "dd46f171",
   "metadata": {},
   "outputs": [],
   "source": []
  }
 ],
 "metadata": {
  "kernelspec": {
   "display_name": "Python 3 (ipykernel)",
   "language": "python",
   "name": "python3"
  },
  "language_info": {
   "codemirror_mode": {
    "name": "ipython",
    "version": 3
   },
   "file_extension": ".py",
   "mimetype": "text/x-python",
   "name": "python",
   "nbconvert_exporter": "python",
   "pygments_lexer": "ipython3",
   "version": "3.9.6"
  }
 },
 "nbformat": 4,
 "nbformat_minor": 5
}
