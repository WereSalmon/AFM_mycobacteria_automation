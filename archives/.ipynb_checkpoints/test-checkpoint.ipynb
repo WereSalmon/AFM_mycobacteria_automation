{
 "cells": [
  {
   "cell_type": "code",
   "execution_count": 1,
   "id": "e60abac5",
   "metadata": {},
   "outputs": [],
   "source": [
    "import numpy as np\n",
    "import os, re\n",
    "from cellpose import utils\n",
    "from tools import masks_list\n",
    "from tools import natural_keys\n",
    "from create_ridgeline import create_ridgeline\n",
    "\n",
    "segments_path = \"cellpose_output/\""
   ]
  },
  {
   "cell_type": "code",
   "execution_count": 2,
   "id": "ac6d61d2",
   "metadata": {},
   "outputs": [
    {
     "name": "stdout",
     "output_type": "stream",
     "text": [
      "3301940\n",
      "3302004\n",
      "3302013\n",
      "3302022\n",
      "3302032\n",
      "3302040\n",
      "3302137\n",
      "3302146\n",
      "3302155\n",
      "3302213\n",
      "3302221\n",
      "3302230\n",
      "3302239\n",
      "3302248\n",
      "3302258\n",
      "3302325\n",
      "3310009\n",
      "3310036\n",
      "3310053\n",
      "3310111\n",
      "3310120\n",
      "3310138\n",
      "3310147\n"
     ]
    },
    {
     "name": "stderr",
     "output_type": "stream",
     "text": [
      "C:\\Users\\sammu\\OneDrive\\Documents\\GitHub\\AFM_mycobacteria_automation\\create_ridgeline.py:329: UserWarning: Curvature exceeds threshold\n",
      "  warnings.warn('Curvature exceeds threshold')\n"
     ]
    },
    {
     "name": "stdout",
     "output_type": "stream",
     "text": [
      "3310156\n",
      "3310205\n",
      "3310214\n",
      "3310223\n",
      "3310240\n",
      "3310249\n",
      "3310316\n",
      "3310325\n",
      "3310334\n",
      "3310343\n",
      "3310351\n",
      "3310400\n",
      "3310409\n",
      "3310436\n",
      "3310445\n",
      "3310454\n"
     ]
    }
   ],
   "source": [
    "# Get the filenames for our segmentation datasets. \n",
    "segmented = os.listdir(segments_path)\n",
    "for fichier in segmented[:]: \n",
    "    if not(fichier.endswith(\".npy\")):\n",
    "        segmented.remove(fichier)\n",
    "\n",
    "# Sort the filenames by timepoint. \n",
    "segmented.sort(key = natural_keys)\n",
    "\n",
    "# Create a list that records the timepoints for every image. \n",
    "time_list = []\n",
    "for segment in segmented:\n",
    "    time_list.append(int(re.findall(r'\\d+', segment)[0]))\n",
    "\n",
    "# Initialize lists.\n",
    "outl_temp = []\n",
    "maskl_temp = []\n",
    "ridl = []\n",
    "\n",
    "# Fill lists with img and outline data from each segment\n",
    "for segment, time in zip(segmented, time_list):\n",
    "    # Load up the segmentation data. \n",
    "    dat = np.load(segments_path + segment, allow_pickle=True).item()\n",
    "    \n",
    "    # Remove small masks from the data\n",
    "    dat[\"masks\"] = utils.fill_holes_and_remove_small_masks(dat[\"masks\"], min_size = 800)\n",
    "    \n",
    "    # Populate list with each cell outline.\n",
    "    outl = utils.outlines_list(dat['masks'])\n",
    "    outl_temp.append(outl)\n",
    "    \n",
    "    # Populate list with each original mask.\n",
    "    maskl = masks_list(dat['masks'])\n",
    "    maskl_temp.append(maskl)\n",
    "    \n",
    "    print(time)\n",
    "    for (mask,outline) in zip(maskl, outl):\n",
    "        out = np.transpose(outline)\n",
    "        center = np.array([np.sum(out[0]),np.sum(out[1])])/len(out[0])\n",
    "        \n",
    "        ridgeline, left_pole, right_pole, max_k = create_ridgeline(mask,outline,center)"
   ]
  }
 ],
 "metadata": {
  "kernelspec": {
   "display_name": "Python 3 (ipykernel)",
   "language": "python",
   "name": "python3"
  },
  "language_info": {
   "codemirror_mode": {
    "name": "ipython",
    "version": 3
   },
   "file_extension": ".py",
   "mimetype": "text/x-python",
   "name": "python",
   "nbconvert_exporter": "python",
   "pygments_lexer": "ipython3",
   "version": "3.9.6"
  }
 },
 "nbformat": 4,
 "nbformat_minor": 5
}
