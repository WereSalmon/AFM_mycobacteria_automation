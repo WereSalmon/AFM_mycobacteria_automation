{
 "cells": [
  {
   "cell_type": "code",
   "execution_count": 8,
   "id": "212b8251",
   "metadata": {},
   "outputs": [],
   "source": [
    "import numpy as np\n",
    "import os, re, cv2\n",
    "from cellpose import utils\n",
    "from skimage.morphology import skeletonize\n",
    "import warnings\n",
    "import copy\n",
    "import tools\n",
    "import matplotlib.pyplot as plt\n",
    "from create_centerline import create_centerline\n",
    "from create_centerline import explore_poles\n",
    "from create_centerline import only_masks\n",
    "from numba_transforms import nn_scale_image\n",
    "\n",
    "segments_path = \"cellpose_output/\""
   ]
  },
  {
   "cell_type": "code",
   "execution_count": 4,
   "id": "a7d4da48",
   "metadata": {},
   "outputs": [],
   "source": [
    "# Get the filenames for our segmentation datasets. \n",
    "segmented = os.listdir(segments_path)\n",
    "for fichier in segmented[:]: \n",
    "    if not(fichier.endswith(\".npy\")):\n",
    "        segmented.remove(fichier)\n",
    "\n",
    "# Sort the filenames by timepoint. \n",
    "segmented.sort(key = tools.natural_keys)\n",
    "\n",
    "# Create a list that records the timepoints for every image. \n",
    "time_list = []\n",
    "for segment in segmented:\n",
    "    time_list.append(int(re.findall(r'\\d+', segment)[0]))"
   ]
  },
  {
   "cell_type": "code",
   "execution_count": 5,
   "id": "08c3824e",
   "metadata": {},
   "outputs": [],
   "source": [
    "def masks_list(mask_img):\n",
    "    vals = np.unique(mask_img)\n",
    "    maskl = []\n",
    "    for v in vals:\n",
    "        if v>0:\n",
    "            mask = mask_img==v\n",
    "            maskl.append(mask*255)\n",
    "    return maskl"
   ]
  },
  {
   "cell_type": "code",
   "execution_count": 6,
   "id": "68a41967",
   "metadata": {},
   "outputs": [],
   "source": [
    "# Initialize lists.\n",
    "outl_temp = []\n",
    "maskl_temp = []\n",
    "iml_temp = []\n",
    "\n",
    "# Fill lists with img and outline data from each segment\n",
    "for segment, time in zip(segmented, time_list):\n",
    "    # Load up the segmentation data. \n",
    "    dat = np.load(segments_path + segment, allow_pickle=True).item()\n",
    "    \n",
    "    # Remove small masks from the data\n",
    "    dat[\"masks\"] = utils.fill_holes_and_remove_small_masks(dat[\"masks\"], min_size = 800)\n",
    "    \n",
    "    # Populate list with each cell outline.\n",
    "    outl = utils.outlines_list(dat['masks'])\n",
    "    outl_temp.append(outl)\n",
    "    \n",
    "    # Populate list with each original mask.\n",
    "    maskl = masks_list(dat['masks'])\n",
    "    maskl_temp.append(maskl)\n",
    "    \n",
    "    #Populate list with each original image\n",
    "    iml = dat['img']\n",
    "    iml_temp.append(iml)"
   ]
  },
  {
   "cell_type": "code",
   "execution_count": 94,
   "id": "caee0da6",
   "metadata": {},
   "outputs": [],
   "source": [
    "large_mask=copy.deepcopy(maskl_temp[0][0])\n",
    "mask = only_masks(large_mask)>0"
   ]
  },
  {
   "cell_type": "code",
   "execution_count": 95,
   "id": "3bc37391",
   "metadata": {},
   "outputs": [],
   "source": [
    "# scale down the image\n",
    "d = 0.5\n",
    "(h,w)=np.shape(mask)\n",
    "m = int(np.floor(d*h))\n",
    "n = int(np.floor(d*w))\n",
    "dmask = np.zeros((m,n))\n",
    "for i in range(m):\n",
    "    for j in range(n):\n",
    "        k = int(np.round(i/d))\n",
    "        l = int(np.round(j/d))\n",
    "        dmask[i,j]=mask[k,l]\n",
    "\n",
    "dmask_padded = cv2.copyMakeBorder(dmask,1,1,1,1,cv2.BORDER_CONSTANT,None,value=0)"
   ]
  },
  {
   "cell_type": "code",
   "execution_count": 112,
   "id": "4a54b6a8",
   "metadata": {},
   "outputs": [],
   "source": [
    "def count(a, b, m, n):\n",
    "    if ((m == 0 and n == 0) or n == 0):\n",
    "        return 1\n",
    "    if (m == 0):\n",
    "        return 0\n",
    "    else:\n",
    "        return count(a, b, m - 1, n)"
   ]
  },
  {
   "cell_type": "code",
   "execution_count": 97,
   "id": "c685d1ab",
   "metadata": {},
   "outputs": [],
   "source": [
    "def iter1(mat):\n",
    "    '''execute first subiteration of the zhang-suen algorithm\n",
    "    Inputs\n",
    "    mat = 3x3 boolean matrix\n",
    "    \n",
    "    Outputs\n",
    "    bool = boolean, representing the center pixel of the matrix\n",
    "    '''\n",
    "    if mat[1,1] ==0:\n",
    "        return 0\n",
    "    else:\n",
    "        B= np.sum(mat)\n",
    "        A = count([mat[0,1],mat[0,2],mat[1,2],mat[2,2],mat[2,1],mat[2,0],mat[1,0],mat[0,0],mat[0,1]],[0,1],9,2)\n",
    "        C = mat[0,1]*mat[1,2]*mat[2,1]\n",
    "        D = mat[1,2]*mat[2,1]*mat[1,0]\n",
    "        if B>1 and B<7 and A == 1 and C == 0 and D == 0:\n",
    "            return 0\n",
    "        else:\n",
    "            return 1\n",
    "\n",
    "def iter2(mat):\n",
    "    '''execute first subiteration of the zhang-suen algorithm\n",
    "    Inputs\n",
    "    mat = 3x3 boolean matrix\n",
    "    \n",
    "    Outputs\n",
    "    bool = boolean, representing the center pixel of the matrix\n",
    "    '''\n",
    "    if mat[1,1] ==0:\n",
    "        return 0\n",
    "    else:\n",
    "        B= np.sum(mat)\n",
    "        A = count([mat[0,1],mat[0,2],mat[1,2],mat[2,2],mat[2,1],mat[2,0],mat[1,0],mat[0,0],mat[0,1]],[0,1],9,2)\n",
    "        C = mat[0,1]*mat[1,2]*mat[1,0]\n",
    "        D = mat[0,1]*mat[2,1]*mat[1,0]\n",
    "        if B>1 and B<7 and A == 1 and C == 0 and D == 0:\n",
    "            return 0\n",
    "        else:\n",
    "            return 1"
   ]
  },
  {
   "cell_type": "code",
   "execution_count": 98,
   "id": "918f6d21",
   "metadata": {},
   "outputs": [],
   "source": [
    "for i in range(m):\n",
    "    for j in range(n):\n",
    "        dmask[i,j] = iter1(dmask_padded[i:i+3,j:j+3])\n",
    "        \n",
    "for i in range(m):\n",
    "    for j in range(n):\n",
    "        dmask[i,j] = iter2(dmask_padded[i:i+3,j:j+3])\n"
   ]
  },
  {
   "cell_type": "code",
   "execution_count": 99,
   "id": "6aba5ca4",
   "metadata": {},
   "outputs": [
    {
     "data": {
      "text/plain": [
       "<matplotlib.image.AxesImage at 0x1c9d1307130>"
      ]
     },
     "execution_count": 99,
     "metadata": {},
     "output_type": "execute_result"
    },
    {
     "data": {
      "image/png": "[encoded data removed]",
      "text/plain": [
       "<Figure size 1800x1200 with 1 Axes>"
      ]
     },
     "metadata": {
      "needs_background": "light"
     },
     "output_type": "display_data"
    }
   ],
   "source": [
    "plt.imshow(dmask)"
   ]
  },
  {
   "cell_type": "code",
   "execution_count": 106,
   "id": "09d85fd0",
   "metadata": {},
   "outputs": [],
   "source": [
    "mat=dmask_padded[17:20,0:3]"
   ]
  },
  {
   "cell_type": "code",
   "execution_count": 113,
   "id": "a7286f76",
   "metadata": {},
   "outputs": [
    {
     "data": {
      "text/plain": [
       "4"
      ]
     },
     "execution_count": 113,
     "metadata": {},
     "output_type": "execute_result"
    }
   ],
   "source": [
    "count([mat[0,1],mat[0,2],mat[1,2],mat[2,2],mat[2,1],mat[2,0],mat[1,0],mat[0,0],mat[0,1]],[0,1],9,2)"
   ]
  },
  {
   "cell_type": "code",
   "execution_count": 110,
   "id": "76fac6e8",
   "metadata": {},
   "outputs": [
    {
     "data": {
      "text/plain": [
       "[0.0, 1.0, 1.0, 1.0, 1.0, 0.0, 0.0, 0.0, 0.0]"
      ]
     },
     "execution_count": 110,
     "metadata": {},
     "output_type": "execute_result"
    }
   ],
   "source": [
    "[mat[0,1],mat[0,2],mat[1,2],mat[2,2],mat[2,1],mat[2,0],mat[1,0],mat[0,0],mat[0,1]]"
   ]
  },
  {
   "cell_type": "code",
   "execution_count": null,
   "id": "3791d3b9",
   "metadata": {},
   "outputs": [],
   "source": []
  }
 ],
 "metadata": {
  "kernelspec": {
   "display_name": "Python 3 (ipykernel)",
   "language": "python",
   "name": "python3"
  },
  "language_info": {
   "codemirror_mode": {
    "name": "ipython",
    "version": 3
   },
   "file_extension": ".py",
   "mimetype": "text/x-python",
   "name": "python",
   "nbconvert_exporter": "python",
   "pygments_lexer": "ipython3",
   "version": "3.9.6"
  }
 },
 "nbformat": 4,
 "nbformat_minor": 5
}
